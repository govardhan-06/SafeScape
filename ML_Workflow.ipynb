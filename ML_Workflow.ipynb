{
  "nbformat": 4,
  "nbformat_minor": 0,
  "metadata": {
    "colab": {
      "provenance": [],
      "authorship_tag": "ABX9TyPwfMGvF6WBsyXV9/ta5Md/",
      "include_colab_link": true
    },
    "kernelspec": {
      "name": "python3",
      "display_name": "Python 3"
    },
    "language_info": {
      "name": "python"
    }
  },
  "cells": [
    {
      "cell_type": "markdown",
      "metadata": {
        "id": "view-in-github",
        "colab_type": "text"
      },
      "source": [
        "<a href=\"https://colab.research.google.com/github/govardhan-06/SafeScape/blob/main/ML_Workflow.ipynb\" target=\"_parent\"><img src=\"https://colab.research.google.com/assets/colab-badge.svg\" alt=\"Open In Colab\"/></a>"
      ]
    },
    {
      "cell_type": "markdown",
      "source": [
        "## Video from Youtube for testing"
      ],
      "metadata": {
        "id": "-qleHvzLw360"
      }
    },
    {
      "cell_type": "code",
      "source": [
        "!pip install yt-dlp"
      ],
      "metadata": {
        "id": "vvze4E-Fur1o"
      },
      "execution_count": null,
      "outputs": []
    },
    {
      "cell_type": "code",
      "execution_count": 10,
      "metadata": {
        "id": "b0qZw7N8ucZp"
      },
      "outputs": [],
      "source": [
        "import yt_dlp\n",
        "\n",
        "def download_youtube(url, output_path='.'):\n",
        "    ydl_opts = {\n",
        "        'format': 'bestvideo+bestaudio/best',\n",
        "        'outtmpl': f'{output_path}/%(title)s.%(ext)s',\n",
        "    }\n",
        "\n",
        "    try:\n",
        "        with yt_dlp.YoutubeDL(ydl_opts) as ydl:\n",
        "            info = ydl.extract_info(url, download=True)\n",
        "            print(f\"Downloaded: {info['title']}\")\n",
        "    except Exception as e:\n",
        "        print(f\"An error occurred: {e}\")"
      ]
    },
    {
      "cell_type": "code",
      "source": [
        "short_url = 'https://www.youtube.com/shorts/vOsMflUyums'  # Replace VIDEO_ID with the actual Shorts ID\n",
        "download_youtube(short_url, output_path='./shorts')  # Downloads to the 'shorts' folder"
      ],
      "metadata": {
        "id": "H1BTZ-Dcukqu"
      },
      "execution_count": null,
      "outputs": []
    },
    {
      "cell_type": "markdown",
      "source": [
        "## Code"
      ],
      "metadata": {
        "id": "DBY8ZsSRxmhd"
      }
    },
    {
      "cell_type": "code",
      "source": [
        "!pip install torch torchvision opencv-python deepface"
      ],
      "metadata": {
        "id": "vpgGcJ2exl_u"
      },
      "execution_count": null,
      "outputs": []
    },
    {
      "cell_type": "code",
      "source": [
        "import torch\n",
        "import torchvision.transforms as T\n",
        "from torchvision.models.detection import ssdlite320_mobilenet_v3_large\n",
        "import cv2\n",
        "import numpy as np"
      ],
      "metadata": {
        "id": "hL7XudT4xv5T"
      },
      "execution_count": 13,
      "outputs": []
    },
    {
      "cell_type": "code",
      "source": [
        "def person_detection(image):\n",
        "    model=ssdlite320_mobilenet_v3_large(pretrained=True)\n",
        "    model.eval()\n",
        "    transform=T.Compose([\n",
        "      T.ToTensor()\n",
        "    ])\n",
        "\n",
        "    image_tensor = transform(image).unsqueeze(0)\n",
        "    with torch.no_grad():\n",
        "        predictions = model(image_tensor)\n",
        "    boxes = predictions[0]['boxes'].cpu().numpy()\n",
        "    labels = predictions[0]['labels'].cpu().numpy()\n",
        "    scores = predictions[0]['scores'].cpu().numpy()\n",
        "    # Filter out persons\n",
        "    person_boxes = [box for i, box in enumerate(boxes) if labels[i] == 1 and scores[i] > 0.5]\n",
        "    return person_boxes"
      ],
      "metadata": {
        "id": "qYrgM787x7YN"
      },
      "execution_count": 16,
      "outputs": []
    },
    {
      "cell_type": "code",
      "source": [
        "from google.colab.patches import cv2_imshow\n",
        "cap = cv2.VideoCapture(\"/content/shorts/Bingo! RINGA RINGA ROSA-EP6 ｜ Karikku #shorts.webm\")\n",
        "while True:\n",
        "    ret, frame = cap.read()\n",
        "    if not ret:\n",
        "        break\n",
        "    person_boxes = person_detection(frame)\n",
        "    for box in person_boxes:\n",
        "        cv2.rectangle(frame, (int(box[0]), int(box[1])), (int(box[2]), int(box[3])), (0, 255, 0), 2)\n",
        "    cv2_imshow(frame)\n",
        "    if cv2.waitKey(1) & 0xFF == ord('q'):\n",
        "        break\n",
        "cap.release()\n",
        "cv2.destroyAllWindows()"
      ],
      "metadata": {
        "id": "giu_a6u5yiJW"
      },
      "execution_count": null,
      "outputs": []
    },
    {
      "cell_type": "code",
      "source": [
        "person_boxes"
      ],
      "metadata": {
        "id": "ULNhhizN3je7"
      },
      "execution_count": null,
      "outputs": []
    }
  ]
}